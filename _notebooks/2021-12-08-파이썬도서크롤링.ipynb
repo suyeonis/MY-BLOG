{
 "cells": [
  {
   "cell_type": "markdown",
   "metadata": {},
   "source": [
    "# \"인기 파이썬 도서 크롤링  \"\n",
    "> \"문제풀이입니다.\"\n",
    "\n",
    "- toc: true\n",
    "- branch: master\n",
    "- badges: true\n",
    "- comments: true\n",
    "- author: SooyeonKim\n",
    "- categories: [크롤링, Python]"
   ]
  },
  {
   "cell_type": "code",
   "execution_count": 1,
   "metadata": {},
   "outputs": [
    {
     "name": "stdout",
     "output_type": "stream",
     "text": [
      "Do it! 점프 투 파이썬 16,920원 9.6\n",
      "혼자 공부하는 머신러닝+딥러닝 23,400원 10.0\n",
      "이것이 취업을 위한 코딩 테스트다 with 파이썬  30,600원 9.5\n",
      "Do it! 파이썬 생활 프로그래밍 18,000원 9.5\n",
      "Do it! 점프 투 파이썬 + Do it! 파이썬 생활 프로그래밍 34,920원 9.6\n",
      "파이썬 코딩의 기술(개정2판) 28,800원 9.6\n",
      "모두의 데이터 분석 with 파이썬 16,200원 9.5\n",
      "Do it! 자료구조와 함께 배우는 알고리즘 입문 : 파이썬 편 19,800원 9.6\n",
      "Do it! 점프 투 파이썬 + Do it! 자료구조와 함께 배우는 알고리즘 입문 : 파이썬 편 + Do it! 파이썬 생활 프로그래밍 54,720원 9.6\n",
      "파이썬 머신러닝 완벽 가이드 34,200원 9.5\n",
      "Do it! 점프 투 파이썬 + Do it! 첫 파이썬  29,520원 9.6\n",
      "Do it! 첫 파이썬 12,600원 9.7\n",
      "파이썬 증권 데이터 분석  28,800원 9.6\n",
      "쉽게 따라 만드는 파이썬 주식 자동매매 시스템 25,200원 9.6\n",
      "혼자 공부하는 첫 프로그래밍 with 파이썬  15,300원 9.5\n",
      "밑바닥부터 시작하는 딥러닝  21,600원 9.5\n",
      "모두의 인공지능 with 파이썬 19,800원 10.0\n"
     ]
    }
   ],
   "source": [
    "# package import\n",
    "from selenium import webdriver\n",
    "from selenium.webdriver.common.by import By\n",
    "from selenium.webdriver.common.keys import Keys\n",
    "from bs4 import BeautifulSoup\n",
    "import requests\n",
    "\n",
    "url = 'http://www.yes24.com/Main/default.aspx'\n",
    "driver = webdriver.Chrome()\n",
    "driver.get(url)\n",
    "\n",
    "elem = driver.find_element(By.ID, 'query')\n",
    "elem.send_keys('파이썬')\n",
    "\n",
    "elem = driver.find_element(By.XPATH, '//*[@id=\"yesSForm\"]/fieldset/span[2]/button')\n",
    "elem.click()\n",
    "\n",
    "\n",
    "# 데이터 가져오기\n",
    "soup = BeautifulSoup(driver.page_source, 'lxml')\n",
    "\n",
    "book_list = soup.find('ul', attrs={'id': 'yesSchList'})\n",
    "books = book_list.find_all('li')\n",
    "\n",
    "for i,  book in enumerate(books) : \n",
    "    title = book.find('a', attrs={'class' : 'gd_name'})\n",
    "    price = book.find('strong', attrs={'class' : 'txt_num'})\n",
    "    \n",
    "    rating = book.select('span.rating_grade em')\n",
    "    if not rating : continue\n",
    "    \n",
    "    if float(rating[0].get_text()) < 9.5 : continue\n",
    "        \n",
    "    print(title.get_text(), price.get_text(), rating[0].get_text())"
   ]
  }
 ],
 "metadata": {
  "kernelspec": {
   "display_name": "Python 3",
   "language": "python",
   "name": "python3"
  },
  "language_info": {
   "codemirror_mode": {
    "name": "ipython",
    "version": 3
   },
   "file_extension": ".py",
   "mimetype": "text/x-python",
   "name": "python",
   "nbconvert_exporter": "python",
   "pygments_lexer": "ipython3",
   "version": "3.8.8"
  }
 },
 "nbformat": 4,
 "nbformat_minor": 4
}
