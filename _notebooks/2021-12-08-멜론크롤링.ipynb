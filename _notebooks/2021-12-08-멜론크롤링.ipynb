{
 "cells": [
  {
   "cell_type": "markdown",
   "metadata": {},
   "source": [
    "# \"멜론사이트 최신곡 검색\"\n",
    "> \"문제풀이입니다.\"\n",
    "\n",
    "- toc: true\n",
    "- branch: master\n",
    "- badges: true\n",
    "- comments: true\n",
    "- author: SooyeonKim\n",
    "- categories: [크롤링, Python]"
   ]
  },
  {
   "cell_type": "markdown",
   "metadata": {},
   "source": [
    "1) 멜론 사이트에서 국내 최신곡 10위까지의 정보를 노래제목, 가수, 앨범, 좋아요 수를 출력하시오\n",
    "\n",
    "* url = 'https://www.melon.com/new/index.htm'"
   ]
  },
  {
   "cell_type": "code",
   "execution_count": 4,
   "metadata": {
    "scrolled": true
   },
   "outputs": [
    {
     "name": "stdout",
     "output_type": "stream",
     "text": [
      "1 소원 지아 , 앨범명: 소원 (3rd MAKE:UP)\n",
      "2 헤어지면 돼 V.O.S , 앨범명: 헤어지면 돼\n",
      "3 푸르른 계절도 내겐 의미 없어요 정승환 , 앨범명: 지금, 헤어지는 중입니다 OST Part.4\n",
      "4 Our Road 로시 (Rothy) , 앨범명: 지리산 OST Part.7\n",
      "5 0 Her ㅎrl (Feat. nafla) 베이빌론 (Babylon) , 앨범명: 바보 (Feat. nafla)\n",
      "6 입버릇 진원 , 앨범명: 입버릇\n",
      "7 12345 저드 (jerd) , 앨범명: A.M.P.\n",
      "8 Imagine Love 미연 ((여자)아이들) , 앨범명: 어른 연습생 OST Part 2\n",
      "9 Guardian (Feat. 김아름) 스페이스카우보이 (SPACECOWBOY) , 앨범명: Guardian\n",
      "10 애.정.너 (Indecisive Me) 종한 (JONGHAN) , 앨범명: 애.정.너 (Indecisive Me)\n"
     ]
    }
   ],
   "source": [
    "# 노래제목 : div rank01\n",
    "# 가수 : div rank02\n",
    "# 앨범 : div rank03\n",
    "# 좋아요 : span cnt\n",
    "    \n",
    "import requests\n",
    "from bs4 import BeautifulSoup\n",
    "\n",
    "url ='https://www.melon.com/new/index.htm'\n",
    "headers = {'User-Agent' : 'Mozilla/5.0 (Windows NT 10.0; Win64; x64) AppleWebKit/537.36 (KHTML, like Gecko) Chrome/96.0.4664.45 Safari/537.36'}\n",
    "\n",
    "response = requests.get(url, headers=headers)\n",
    "response.raise_for_status() \n",
    "\n",
    "soup = BeautifulSoup(response.text, 'html.parser')\n",
    "\n",
    "all_song = soup.find_all('tr')\n",
    "for i, song in enumerate(all_song) :\n",
    "    #print(song)\n",
    "    title = song.find_all('div', attrs={'class' : 'rank01'})\n",
    "    \n",
    "    if len(title) == 0 : continue\n",
    "    if i >10 : break\n",
    "    \n",
    "    title = title[0].a.get_text()\n",
    "    print(i, title, end=' ')\n",
    "    \n",
    "    singer = song.find_all('div', attrs={'class' : 'rank02'})\n",
    "    singer = singer[0].a.get_text()\n",
    "    print(singer, end=' ')\n",
    "    \n",
    "    album = song.find_all('div', attrs={'class' : 'rank03'})\n",
    "    album = album[0].a.get_text()\n",
    "    print(', 앨범명:', album)\n",
    "    "
   ]
  },
  {
   "cell_type": "code",
   "execution_count": null,
   "metadata": {},
   "outputs": [],
   "source": []
  },
  {
   "cell_type": "markdown",
   "metadata": {},
   "source": [
    "2) 네이버에서 bts이미지를 검색한 후 나온 결과 중 5개의 이미지를 저장\n",
    "\n",
    "* url = 'https://search.naver.com/search.naver?where=image&sm=tab_jum&query=bts' "
   ]
  },
  {
   "cell_type": "code",
   "execution_count": 18,
   "metadata": {},
   "outputs": [
    {
     "name": "stdout",
     "output_type": "stream",
     "text": [
      "그림의 개수: 50\n",
      "폴더가 생성됨\n",
      "itzy 사진 저장 완료\n"
     ]
    }
   ],
   "source": [
    "import os \n",
    "import time\n",
    "import requests\n",
    "from bs4 import BeautifulSoup\n",
    "from selenium import webdriver\n",
    "\n",
    "driver = webdriver.Chrome()\n",
    "\n",
    "url ='https://search.naver.com/search.naver?sm=tab_hty.top&where=image&query=itzy+&oquery=itzy+%EB%A5%98%EC%A7%84&tqi=hiUQMdp0YiRsskjKihGsssssstd-024376'\n",
    "headers = {'User-Agent' : 'Mozilla/5.0 (Windows NT 10.0; Win64; x64) AppleWebKit/537.36 (KHTML, like Gecko) Chrome/96.0.4664.45 Safari/537.36'}\n",
    "\n",
    "\n",
    "# 셀레늄을 이용하여 특정 사이트로 이동한 후 1초동안 대기\n",
    "driver.get(url)\n",
    "time.sleep(1)\n",
    "\n",
    "# response = requests.get(url, headers=headers)\n",
    "# response.raise_for_status() #driver.get했기 때문에 이건 사용x\n",
    "\n",
    "soup = BeautifulSoup(driver.page_source) #파서 필요없음\n",
    "itzy_imgs = soup.find_all('img',attrs={'class':'_image _listImage'})\n",
    "print('그림의 개수:',len(itzy_imgs))#첫 화면에 보이는 이미지의 개수(스크롤하면 더 많이 보임)\n",
    "\n",
    "# 이미지 저장할 폴더 생성\n",
    "img_dir = './itzy_img/'\n",
    "\n",
    "if not os.path.exists(img_dir): #디렉토리가 없으면 생성\n",
    "    os.makedirs(img_dir)\n",
    "    print('폴더 생성')\n",
    "else:\n",
    "    print('폴더가 생성됨')\n",
    "    \n",
    "for i, image in enumerate(itzy_imgs):\n",
    "    img_url = image['src']\n",
    "    \n",
    "    if(not img_url.startswith('http')):continue\n",
    "        \n",
    "    img_src = requests.get(img_url, headers=headers)\n",
    "    img_src.raise_for_status()\n",
    "    \n",
    "    with open(img_dir+'itzy_{}.jpg'.format(i),'wb') as f: #처음 http가 아니면 잘 저장이 안될수있음\n",
    "        f.write(img_src.content)\n",
    "        if i>=10: break\n",
    "        \n",
    "print('itzy 사진 저장 완료')\n",
    "# print(soup)\n",
    "\n",
    "# with open('itzy.html','w',encoding='utf8') as f:\n",
    "#     f.write(response.text)\n",
    "    \n",
    "# print('저장 완료') #파일 확인해보기"
   ]
  },
  {
   "cell_type": "markdown",
   "metadata": {},
   "source": [
    "pip show selenium\n",
    "\n",
    "chorome://version\n",
    "chromedriver 검색-> 자신의 크롬 프로그램 버전에 맞는 driver을 다운로드 받는다.  화면 제어"
   ]
  },
  {
   "cell_type": "code",
   "execution_count": 17,
   "metadata": {},
   "outputs": [
    {
     "name": "stdout",
     "output_type": "stream",
     "text": [
      "True\n",
      "True\n",
      "True\n",
      "False\n"
     ]
    }
   ],
   "source": [
    "temp = 'http://www.naver.com'\n",
    "temp1 = 'http://www.daum.net'\n",
    "\n",
    "print(temp.startswith('http'))\n",
    "print(temp1.startswith('http'))\n",
    "\n",
    "print(temp.endswith('com'))\n",
    "print(temp1.endswith('com'))\n"
   ]
  },
  {
   "cell_type": "code",
   "execution_count": null,
   "metadata": {},
   "outputs": [],
   "source": []
  },
  {
   "cell_type": "code",
   "execution_count": null,
   "metadata": {},
   "outputs": [],
   "source": []
  }
 ],
 "metadata": {
  "kernelspec": {
   "display_name": "Python 3",
   "language": "python",
   "name": "python3"
  },
  "language_info": {
   "codemirror_mode": {
    "name": "ipython",
    "version": 3
   },
   "file_extension": ".py",
   "mimetype": "text/x-python",
   "name": "python",
   "nbconvert_exporter": "python",
   "pygments_lexer": "ipython3",
   "version": "3.8.8"
  },
  "toc": {
   "base_numbering": 1,
   "nav_menu": {},
   "number_sections": true,
   "sideBar": true,
   "skip_h1_title": false,
   "title_cell": "Table of Contents",
   "title_sidebar": "Contents",
   "toc_cell": false,
   "toc_position": {},
   "toc_section_display": true,
   "toc_window_display": false
  }
 },
 "nbformat": 4,
 "nbformat_minor": 4
}
